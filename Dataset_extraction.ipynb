{
  "nbformat": 4,
  "nbformat_minor": 0,
  "metadata": {
    "colab": {
      "name": "Dataset_extraction.ipynb",
      "provenance": [],
      "collapsed_sections": []
    },
    "kernelspec": {
      "name": "python3",
      "display_name": "Python 3"
    }
  },
  "cells": [
    {
      "cell_type": "code",
      "metadata": {
        "id": "MhDJKFtOOGXn",
        "outputId": "9bdde9ed-0213-4557-c520-d3644029a31a",
        "colab": {
          "base_uri": "https://localhost:8080/",
          "height": 170
        }
      },
      "source": [
        "pip install snscrape"
      ],
      "execution_count": null,
      "outputs": [
        {
          "output_type": "stream",
          "text": [
            "Requirement already satisfied: snscrape in /usr/local/lib/python3.6/dist-packages (0.3.4)\n",
            "Requirement already satisfied: beautifulsoup4 in /usr/local/lib/python3.6/dist-packages (from snscrape) (4.6.3)\n",
            "Requirement already satisfied: lxml in /usr/local/lib/python3.6/dist-packages (from snscrape) (4.2.6)\n",
            "Requirement already satisfied: requests[socks] in /usr/local/lib/python3.6/dist-packages (from snscrape) (2.23.0)\n",
            "Requirement already satisfied: chardet<4,>=3.0.2 in /usr/local/lib/python3.6/dist-packages (from requests[socks]->snscrape) (3.0.4)\n",
            "Requirement already satisfied: urllib3!=1.25.0,!=1.25.1,<1.26,>=1.21.1 in /usr/local/lib/python3.6/dist-packages (from requests[socks]->snscrape) (1.24.3)\n",
            "Requirement already satisfied: idna<3,>=2.5 in /usr/local/lib/python3.6/dist-packages (from requests[socks]->snscrape) (2.10)\n",
            "Requirement already satisfied: certifi>=2017.4.17 in /usr/local/lib/python3.6/dist-packages (from requests[socks]->snscrape) (2020.6.20)\n",
            "Requirement already satisfied: PySocks!=1.5.7,>=1.5.6; extra == \"socks\" in /usr/local/lib/python3.6/dist-packages (from requests[socks]->snscrape) (1.7.1)\n"
          ],
          "name": "stdout"
        }
      ]
    },
    {
      "cell_type": "code",
      "metadata": {
        "id": "l5jG5MQqONvJ"
      },
      "source": [
        "import pandas as pd"
      ],
      "execution_count": null,
      "outputs": []
    },
    {
      "cell_type": "code",
      "metadata": {
        "id": "XEzmn_2EOS4I"
      },
      "source": [
        "import snscrape\n",
        "import snscrape.modules\n",
        "import snscrape.modules.twitter"
      ],
      "execution_count": null,
      "outputs": []
    },
    {
      "cell_type": "code",
      "metadata": {
        "id": "yuFbRlLtOV-B"
      },
      "source": [
        "tweets=[]"
      ],
      "execution_count": null,
      "outputs": []
    },
    {
      "cell_type": "code",
      "metadata": {
        "id": "8T2fns--OaIK"
      },
      "source": [
        "for i, tweet in enumerate(snscrape.modules.twitter.TwitterSearchScraper(\"#coronavirus+#pandemic+#covid19 lang:en since:2020-10-01 until:2020-10-20\").get_items()):\n",
        "  if tweet not in tweets:\n",
        "    tweets.append(tweet)\n",
        "  if i>=1500:\n",
        "    break\n",
        " \n",
        "\"\"\"\n",
        "P.S - This code block needs to run multiple times with respect to the hashtags, 'since' and 'until' parameters in order to obtain a specific number of tweets per month(which has been done using\n",
        "enumerate function). \n",
        "The way this works - enter the required 'since' and 'until' dates with the required query or hashtag according to required iterable value and run the cell/code block so that these tweets are \n",
        "appended to the list called - tweets.\n",
        "\n",
        "Repeat this until process until requirement is satisfied.\n",
        "\n",
        "P.P.S - Initially we extracted 28053 tweets but we found that it wasnt fitting our requirement later on (for ABSA), so we had to reduce the tweets in the dataset to suit our requirements. \n",
        "We recommend to check resources and requirements and change the parameters as required.\n",
        "We have added the dataset used for this project - final dataset.csv, please find it for reference if required.\n",
        "\"\"\""
      ],
      "execution_count": null,
      "outputs": []
    },
    {
      "cell_type": "code",
      "metadata": {
        "id": "hqpdvs6TUWF3",
        "outputId": "b6ca7d1c-5e4c-4236-8cd8-de5dd601cc18",
        "colab": {
          "base_uri": "https://localhost:8080/",
          "height": 34
        }
      },
      "source": [
        "len(tweets)"
      ],
      "execution_count": null,
      "outputs": [
        {
          "output_type": "execute_result",
          "data": {
            "text/plain": [
              "28053"
            ]
          },
          "metadata": {
            "tags": []
          },
          "execution_count": 62
        }
      ]
    },
    {
      "cell_type": "code",
      "metadata": {
        "id": "SezuMuEArdjp"
      },
      "source": [
        "df=pd.DataFrame(tweets)"
      ],
      "execution_count": null,
      "outputs": []
    },
    {
      "cell_type": "code",
      "metadata": {
        "id": "4GO2pt8Srmp5",
        "outputId": "73bae6cb-07cf-49bf-c30d-6523a5c7800f",
        "colab": {
          "base_uri": "https://localhost:8080/",
          "height": 34
        }
      },
      "source": [
        "from google.colab import drive\n",
        "drive.mount('/drive')"
      ],
      "execution_count": null,
      "outputs": [
        {
          "output_type": "stream",
          "text": [
            "Mounted at /drive\n"
          ],
          "name": "stdout"
        }
      ]
    },
    {
      "cell_type": "code",
      "metadata": {
        "id": "zc_9WK6VsAE3",
        "outputId": "2759c58f-98cf-407d-ca84-e9da2a83d5d4",
        "colab": {
          "base_uri": "https://localhost:8080/",
          "height": 479
        }
      },
      "source": [
        "df.head()"
      ],
      "execution_count": null,
      "outputs": [
        {
          "output_type": "execute_result",
          "data": {
            "text/html": [
              "<div>\n",
              "<style scoped>\n",
              "    .dataframe tbody tr th:only-of-type {\n",
              "        vertical-align: middle;\n",
              "    }\n",
              "\n",
              "    .dataframe tbody tr th {\n",
              "        vertical-align: top;\n",
              "    }\n",
              "\n",
              "    .dataframe thead th {\n",
              "        text-align: right;\n",
              "    }\n",
              "</style>\n",
              "<table border=\"1\" class=\"dataframe\">\n",
              "  <thead>\n",
              "    <tr style=\"text-align: right;\">\n",
              "      <th></th>\n",
              "      <th>url</th>\n",
              "      <th>date</th>\n",
              "      <th>content</th>\n",
              "      <th>id</th>\n",
              "      <th>username</th>\n",
              "      <th>outlinks</th>\n",
              "      <th>outlinksss</th>\n",
              "      <th>tcooutlinks</th>\n",
              "      <th>tcooutlinksss</th>\n",
              "    </tr>\n",
              "  </thead>\n",
              "  <tbody>\n",
              "    <tr>\n",
              "      <th>0</th>\n",
              "      <td>https://twitter.com/krmaas/status/122338937695...</td>\n",
              "      <td>2020-01-31 23:35:31+00:00</td>\n",
              "      <td>US Centers for Disease Control &amp;amp; Preventio...</td>\n",
              "      <td>1223389376958410754</td>\n",
              "      <td>krmaas</td>\n",
              "      <td>[https://www.wired.com/story/the-coronavirus-i...</td>\n",
              "      <td>https://www.wired.com/story/the-coronavirus-is...</td>\n",
              "      <td>[https://t.co/CPTqH8A4VJ]</td>\n",
              "      <td>https://t.co/CPTqH8A4VJ</td>\n",
              "    </tr>\n",
              "    <tr>\n",
              "      <th>1</th>\n",
              "      <td>https://twitter.com/kegeiger/status/1223389347...</td>\n",
              "      <td>2020-01-31 23:35:24+00:00</td>\n",
              "      <td>Considering that the Whuhan Flu is probably a ...</td>\n",
              "      <td>1223389347120107520</td>\n",
              "      <td>kegeiger</td>\n",
              "      <td>[https://twitter.com/CAT1PRO/status/1223360129...</td>\n",
              "      <td>https://twitter.com/CAT1PRO/status/12233601298...</td>\n",
              "      <td>[https://t.co/Mn26tce0Hs]</td>\n",
              "      <td>https://t.co/Mn26tce0Hs</td>\n",
              "    </tr>\n",
              "    <tr>\n",
              "      <th>2</th>\n",
              "      <td>https://twitter.com/CHEMTRAILSMN/status/122338...</td>\n",
              "      <td>2020-01-31 23:33:18+00:00</td>\n",
              "      <td>RED ALERT BREAKING NEWS: CORONAVIRUS UPDATE:\\n...</td>\n",
              "      <td>1223388817253715968</td>\n",
              "      <td>CHEMTRAILSMN</td>\n",
              "      <td>[https://www.youtube.com/watch?v=N9Gz_QCaWHs]</td>\n",
              "      <td>https://www.youtube.com/watch?v=N9Gz_QCaWHs</td>\n",
              "      <td>[https://t.co/iklkscwcfh]</td>\n",
              "      <td>https://t.co/iklkscwcfh</td>\n",
              "    </tr>\n",
              "    <tr>\n",
              "      <th>3</th>\n",
              "      <td>https://twitter.com/ks10650/status/12233877477...</td>\n",
              "      <td>2020-01-31 23:29:03+00:00</td>\n",
              "      <td>@richardhine @SenSchumer We’ll remember it as ...</td>\n",
              "      <td>1223387747760521216</td>\n",
              "      <td>ks10650</td>\n",
              "      <td>[]</td>\n",
              "      <td></td>\n",
              "      <td>[]</td>\n",
              "      <td></td>\n",
              "    </tr>\n",
              "    <tr>\n",
              "      <th>4</th>\n",
              "      <td>https://twitter.com/RightSideNow/status/122338...</td>\n",
              "      <td>2020-01-31 23:22:37+00:00</td>\n",
              "      <td>There are currently 11,302 confirmed cases wor...</td>\n",
              "      <td>1223386130919243776</td>\n",
              "      <td>RightSideNow</td>\n",
              "      <td>[]</td>\n",
              "      <td></td>\n",
              "      <td>[]</td>\n",
              "      <td></td>\n",
              "    </tr>\n",
              "  </tbody>\n",
              "</table>\n",
              "</div>"
            ],
            "text/plain": [
              "                                                 url  ...            tcooutlinksss\n",
              "0  https://twitter.com/krmaas/status/122338937695...  ...  https://t.co/CPTqH8A4VJ\n",
              "1  https://twitter.com/kegeiger/status/1223389347...  ...  https://t.co/Mn26tce0Hs\n",
              "2  https://twitter.com/CHEMTRAILSMN/status/122338...  ...  https://t.co/iklkscwcfh\n",
              "3  https://twitter.com/ks10650/status/12233877477...  ...                         \n",
              "4  https://twitter.com/RightSideNow/status/122338...  ...                         \n",
              "\n",
              "[5 rows x 9 columns]"
            ]
          },
          "metadata": {
            "tags": []
          },
          "execution_count": 66
        }
      ]
    },
    {
      "cell_type": "code",
      "metadata": {
        "id": "Tc4Y4MrmsRUC"
      },
      "source": [
        "df1 = df[['url','date','content','id','username']]"
      ],
      "execution_count": null,
      "outputs": []
    },
    {
      "cell_type": "code",
      "metadata": {
        "id": "fxERe2wrxBQV",
        "outputId": "1d236d79-53a1-421c-af39-3bc07ae2ffb5",
        "colab": {
          "base_uri": "https://localhost:8080/",
          "height": 289
        }
      },
      "source": [
        "df1.head()"
      ],
      "execution_count": null,
      "outputs": [
        {
          "output_type": "execute_result",
          "data": {
            "text/html": [
              "<div>\n",
              "<style scoped>\n",
              "    .dataframe tbody tr th:only-of-type {\n",
              "        vertical-align: middle;\n",
              "    }\n",
              "\n",
              "    .dataframe tbody tr th {\n",
              "        vertical-align: top;\n",
              "    }\n",
              "\n",
              "    .dataframe thead th {\n",
              "        text-align: right;\n",
              "    }\n",
              "</style>\n",
              "<table border=\"1\" class=\"dataframe\">\n",
              "  <thead>\n",
              "    <tr style=\"text-align: right;\">\n",
              "      <th></th>\n",
              "      <th>url</th>\n",
              "      <th>date</th>\n",
              "      <th>content</th>\n",
              "      <th>id</th>\n",
              "      <th>username</th>\n",
              "    </tr>\n",
              "  </thead>\n",
              "  <tbody>\n",
              "    <tr>\n",
              "      <th>0</th>\n",
              "      <td>https://twitter.com/krmaas/status/122338937695...</td>\n",
              "      <td>2020-01-31 23:35:31+00:00</td>\n",
              "      <td>US Centers for Disease Control &amp;amp; Preventio...</td>\n",
              "      <td>1223389376958410754</td>\n",
              "      <td>krmaas</td>\n",
              "    </tr>\n",
              "    <tr>\n",
              "      <th>1</th>\n",
              "      <td>https://twitter.com/kegeiger/status/1223389347...</td>\n",
              "      <td>2020-01-31 23:35:24+00:00</td>\n",
              "      <td>Considering that the Whuhan Flu is probably a ...</td>\n",
              "      <td>1223389347120107520</td>\n",
              "      <td>kegeiger</td>\n",
              "    </tr>\n",
              "    <tr>\n",
              "      <th>2</th>\n",
              "      <td>https://twitter.com/CHEMTRAILSMN/status/122338...</td>\n",
              "      <td>2020-01-31 23:33:18+00:00</td>\n",
              "      <td>RED ALERT BREAKING NEWS: CORONAVIRUS UPDATE:\\n...</td>\n",
              "      <td>1223388817253715968</td>\n",
              "      <td>CHEMTRAILSMN</td>\n",
              "    </tr>\n",
              "    <tr>\n",
              "      <th>3</th>\n",
              "      <td>https://twitter.com/ks10650/status/12233877477...</td>\n",
              "      <td>2020-01-31 23:29:03+00:00</td>\n",
              "      <td>@richardhine @SenSchumer We’ll remember it as ...</td>\n",
              "      <td>1223387747760521216</td>\n",
              "      <td>ks10650</td>\n",
              "    </tr>\n",
              "    <tr>\n",
              "      <th>4</th>\n",
              "      <td>https://twitter.com/RightSideNow/status/122338...</td>\n",
              "      <td>2020-01-31 23:22:37+00:00</td>\n",
              "      <td>There are currently 11,302 confirmed cases wor...</td>\n",
              "      <td>1223386130919243776</td>\n",
              "      <td>RightSideNow</td>\n",
              "    </tr>\n",
              "  </tbody>\n",
              "</table>\n",
              "</div>"
            ],
            "text/plain": [
              "                                                 url  ...      username\n",
              "0  https://twitter.com/krmaas/status/122338937695...  ...        krmaas\n",
              "1  https://twitter.com/kegeiger/status/1223389347...  ...      kegeiger\n",
              "2  https://twitter.com/CHEMTRAILSMN/status/122338...  ...  CHEMTRAILSMN\n",
              "3  https://twitter.com/ks10650/status/12233877477...  ...       ks10650\n",
              "4  https://twitter.com/RightSideNow/status/122338...  ...  RightSideNow\n",
              "\n",
              "[5 rows x 5 columns]"
            ]
          },
          "metadata": {
            "tags": []
          },
          "execution_count": 81
        }
      ]
    },
    {
      "cell_type": "code",
      "metadata": {
        "id": "ZiXbi2pEvFFh"
      },
      "source": [
        "df1.to_csv(\"/drive/My Drive/Mini_Project/final_dataset.csv\", mode=\"a\")"
      ],
      "execution_count": null,
      "outputs": []
    }
  ]
}
